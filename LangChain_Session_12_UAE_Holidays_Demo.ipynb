{
  "nbformat": 4,
  "nbformat_minor": 0,
  "metadata": {
    "colab": {
      "provenance": []
    },
    "kernelspec": {
      "name": "python3",
      "display_name": "Python 3"
    },
    "language_info": {
      "name": "python"
    }
  },
  "cells": [
    {
      "cell_type": "markdown",
      "source": [
        "[![Open In Colab](https://colab.research.google.com/assets/colab-badge.svg)](https://colab.research.google.com/drive/1aMa3Ull4rTcsBqtZwIf6LdVV05YgFMp9?usp=sharing)"
      ],
      "metadata": {
        "id": "NkTGPUqzzBUK"
      }
    },
    {
      "cell_type": "code",
      "source": [
        "#install all proper packages\n",
        "!pip install -qU langchain==0.1.5 langchain-community==0.0.17 langchain-core==0.1.18 langchain-openai==0.0.5 openai==1.11.0 tiktoken==0.5.2 chromadb==0.4.22 pandas==2.2.0"
      ],
      "metadata": {
        "id": "KCTmQXihq9Jk"
      },
      "execution_count": 1,
      "outputs": []
    },
    {
      "cell_type": "code",
      "source": [
        "!pip freeze | grep langchain"
      ],
      "metadata": {
        "colab": {
          "base_uri": "https://localhost:8080/"
        },
        "id": "JrQF4zt4bZxa",
        "outputId": "af7f0afa-2176-4dcd-9e14-f54618dcd718"
      },
      "execution_count": 2,
      "outputs": [
        {
          "output_type": "stream",
          "name": "stdout",
          "text": [
            "langchain==0.1.5\n",
            "langchain-community==0.0.17\n",
            "langchain-core==0.1.18\n",
            "langchain-openai==0.0.5\n"
          ]
        }
      ]
    },
    {
      "cell_type": "markdown",
      "source": [
        "## Data Download\n",
        "Firstly, we will fetch the data from a website containing information about the official public holidays in the UAE for this year. To work with our own data, we will save the table as a CSV file and later load it using the `CSVLoader`. Theoretically, one can use `WebCrawler` instead of a custom function or include our function in a tool."
      ],
      "metadata": {
        "id": "0R1h4Ivn8ETR"
      }
    },
    {
      "cell_type": "code",
      "source": [
        "import requests\n",
        "import bs4\n",
        "import pandas as pd\n",
        "import pprint"
      ],
      "metadata": {
        "id": "gXypMluAjBME"
      },
      "execution_count": 3,
      "outputs": []
    },
    {
      "cell_type": "code",
      "source": [
        "html = '''\n",
        "<table class=\"publicholidays phgtable \">\n",
        "  <thead>\n",
        "    <tr>\n",
        "      <th>Date</th>\n",
        "      <th>Day</th>\n",
        "      <th>Holiday</th>\n",
        "    </tr>\n",
        "  </thead>\n",
        "  <tbody>\n",
        "    <tr class=\"even \">\n",
        "      <td>1 Jan</td>\n",
        "      <td>Mon</td>\n",
        "      <td>\n",
        "        <a href=\"https://publicholidays.ae/new-years-day/\" class=\"summary url\">\n",
        "          New Year's Day\n",
        "        </a>\n",
        "      </td>\n",
        "    </tr>\n",
        "    <tr class=\"odd \">\n",
        "      <td>8 Apr</td>\n",
        "      <td>Mon</td>\n",
        "      <td>\n",
        "        <a href=\"https://publicholidays.ae/eid-al-fitr/\" class=\"summary url\">\n",
        "          Eid al-Fitr Holiday\n",
        "        </a>\n",
        "      </td>\n",
        "    </tr>\n",
        "    <tr class=\"even \">\n",
        "      <td>9 Apr</td>\n",
        "      <td>Tue</td>\n",
        "      <td>\n",
        "        <a href=\"https://publicholidays.ae/eid-al-fitr/\" class=\"summary url\">\n",
        "          Eid al-Fitr Holiday\n",
        "        </a>\n",
        "      </td>\n",
        "    </tr>\n",
        "    <tr class=\"odd \">\n",
        "      <td>10 Apr</td>\n",
        "      <td>Wed</td>\n",
        "      <td>\n",
        "        <a href=\"https://publicholidays.ae/eid-al-fitr/\" class=\"summary url\">\n",
        "          Eid al-Fitr\n",
        "        </a>\n",
        "      </td>\n",
        "    </tr>\n",
        "    <tr class=\"even \">\n",
        "      <td>11 Apr</td>\n",
        "      <td>Thu</td>\n",
        "      <td>\n",
        "        <a href=\"https://publicholidays.ae/eid-al-fitr/\" class=\"summary url\">\n",
        "          Eid al-Fitr Holiday\n",
        "        </a>\n",
        "      </td>\n",
        "    </tr>\n",
        "    <tr class=\"odd \">\n",
        "      <td>12 Apr</td>\n",
        "      <td>Fri</td>\n",
        "      <td>\n",
        "        <a href=\"https://publicholidays.ae/eid-al-fitr/\" class=\"summary url\">\n",
        "          Eid al-Fitr Holiday\n",
        "        </a>\n",
        "      </td>\n",
        "    </tr>\n",
        "    <tr class=\"even \">\n",
        "      <td>15 Jun</td>\n",
        "      <td>Sat</td>\n",
        "      <td>\n",
        "        <a href=\"https://publicholidays.ae/arafat-day/\" class=\"summary url\">\n",
        "          Arafat Day\n",
        "        </a>\n",
        "      </td>\n",
        "    </tr>\n",
        "    <tr class=\"odd \">\n",
        "      <td>16 Jun</td>\n",
        "      <td>Sun</td>\n",
        "      <td>\n",
        "        <a href=\"https://publicholidays.ae/eid-al-adha/\" class=\"summary url\">\n",
        "          Eid al-Adha\n",
        "        </a>\n",
        "      </td>\n",
        "    </tr>\n",
        "    <tr class=\"even \">\n",
        "      <td>17 Jun</td>\n",
        "      <td>Mon</td>\n",
        "      <td>\n",
        "        <a href=\"https://publicholidays.ae/eid-al-adha/\" class=\"summary url\">\n",
        "          Eid al-Adha Holiday\n",
        "        </a>\n",
        "      </td>\n",
        "    </tr>\n",
        "    <tr class=\"odd \">\n",
        "      <td>18 Jun</td>\n",
        "      <td>Tue</td>\n",
        "      <td>\n",
        "        <a href=\"https://publicholidays.ae/eid-al-adha/\" class=\"summary url\">\n",
        "          Eid al-Adha Holiday\n",
        "        </a>\n",
        "      </td>\n",
        "    </tr>\n",
        "    <tr class=\"even \">\n",
        "      <td>7 Jul</td>\n",
        "      <td>Sun</td>\n",
        "      <td>\n",
        "        <a\n",
        "          href=\"https://publicholidays.ae/islamic-new-year/\"\n",
        "          class=\"summary url\"\n",
        "        >\n",
        "          Islamic New Year\n",
        "        </a>\n",
        "      </td>\n",
        "    </tr>\n",
        "    <tr class=\"odd \">\n",
        "      <td>15 Sep</td>\n",
        "      <td>Sun</td>\n",
        "      <td>\n",
        "        <a\n",
        "          href=\"https://publicholidays.ae/prophet-muhammads-birthday/\"\n",
        "          class=\"summary url\"\n",
        "        >\n",
        "          Prophet Muhammad's Birthday\n",
        "        </a>\n",
        "      </td>\n",
        "    </tr>\n",
        "    <tr class=\"even \">\n",
        "      <td>1 Dec</td>\n",
        "      <td>Sun</td>\n",
        "      <td>\n",
        "        <a href=\"https://publicholidays.ae/martyrs-day/\" class=\"summary url\">\n",
        "          Commemoration Day\n",
        "        </a>\n",
        "      </td>\n",
        "    </tr>\n",
        "    <tr class=\"odd \">\n",
        "      <td>2 Dec</td>\n",
        "      <td>Mon</td>\n",
        "      <td>\n",
        "        <a href=\"https://publicholidays.ae/national-day/\" class=\"summary url\">\n",
        "          National Day\n",
        "        </a>\n",
        "      </td>\n",
        "    </tr>\n",
        "    <tr class=\"even \">\n",
        "      <td>3 Dec</td>\n",
        "      <td>Tue</td>\n",
        "      <td>\n",
        "        <a href=\"https://publicholidays.ae/national-day/\" class=\"summary url\">\n",
        "          National Day Holiday\n",
        "        </a>\n",
        "      </td>\n",
        "    </tr>\n",
        "    <tr>\n",
        "      <td colspan=\"3\">\n",
        "        Visit u.ae for the original\n",
        "        <a\n",
        "          href=\"https://wam.ae/article/apr45ya-uae-cabinet-approves-official-holidays-calendar\"\n",
        "          target=\"_blank\"\n",
        "        >\n",
        "          release\n",
        "        </a>\n",
        "        .\n",
        "      </td>\n",
        "    </tr>\n",
        "  </tbody>\n",
        "</table>;\n",
        "\n",
        "'''"
      ],
      "metadata": {
        "id": "ZAvNqoKO073B"
      },
      "execution_count": 4,
      "outputs": []
    },
    {
      "cell_type": "code",
      "source": [
        "# Function to make HTTP GET request\n",
        "def get_request(url, cookies={}, headers={}):\n",
        "    headers = {\n",
        "      'user-agent': 'Mozilla/5.0 (X11; Linux x86_64) AppleWebKit/537.36 (KHTML, like Gecko) Chrome/120.0.0.0 Safari/537.36',\n",
        "    }\n",
        "\n",
        "    return requests.get(url, cookies=cookies, headers=headers)\n",
        "\n",
        "# Function to collect data from a URL and extract the table\n",
        "def collect_data(url):\n",
        "    response = get_request(url)\n",
        "    soup = bs4.BeautifulSoup(response.text, features=\"lxml\")\n",
        "    table = soup.find(\"table\", class_=\"publicholidays\")\n",
        "    # if blocked by cloudfare\n",
        "    if not table:\n",
        "      soup = bs4.BeautifulSoup(html, features=\"lxml\")\n",
        "      table = soup.find(\"table\", class_=\"publicholidays\")\n",
        "    return table\n",
        "\n",
        "# Function to convert HTML table to pandas DataFrame\n",
        "def convert_html_table_to_df(html_text):\n",
        "    return pd.read_html(str(html_text))[0]"
      ],
      "metadata": {
        "id": "pe3kftmBioJw"
      },
      "execution_count": 5,
      "outputs": []
    },
    {
      "cell_type": "code",
      "source": [
        "# Root URL for the website containing holiday data\n",
        "ROOT_URL = \"https://publicholidays.ae/2024-dates/\"\n",
        "\n",
        "# Collect the data and convert it to a DataFrame\n",
        "html_text = collect_data(url=ROOT_URL)\n",
        "df = convert_html_table_to_df(html_text=html_text)"
      ],
      "metadata": {
        "id": "VorPAnLqmNEQ",
        "colab": {
          "base_uri": "https://localhost:8080/"
        },
        "outputId": "bc7ffa67-e172-48e9-96f8-5a7c5ebce167"
      },
      "execution_count": 6,
      "outputs": [
        {
          "output_type": "stream",
          "name": "stderr",
          "text": [
            "<ipython-input-5-7efacfaefc89>:22: FutureWarning: Passing literal html to 'read_html' is deprecated and will be removed in a future version. To read from a literal string, wrap it in a 'StringIO' object.\n",
            "  return pd.read_html(str(html_text))[0]\n"
          ]
        }
      ]
    },
    {
      "cell_type": "code",
      "source": [
        "df"
      ],
      "metadata": {
        "colab": {
          "base_uri": "https://localhost:8080/",
          "height": 551
        },
        "id": "X4p0goVfioMr",
        "outputId": "5ce098c8-5e53-48f5-813c-3190b8c54451"
      },
      "execution_count": 7,
      "outputs": [
        {
          "output_type": "execute_result",
          "data": {
            "text/plain": [
              "                                       Date  \\\n",
              "0                                     1 Jan   \n",
              "1                                     8 Apr   \n",
              "2                                     9 Apr   \n",
              "3                                    10 Apr   \n",
              "4                                    11 Apr   \n",
              "5                                    12 Apr   \n",
              "6                                    15 Jun   \n",
              "7                                    16 Jun   \n",
              "8                                    17 Jun   \n",
              "9                                    18 Jun   \n",
              "10                                    7 Jul   \n",
              "11                                   15 Sep   \n",
              "12                                    1 Dec   \n",
              "13                                    2 Dec   \n",
              "14                                    3 Dec   \n",
              "15  Visit u.ae for the original  release  .   \n",
              "\n",
              "                                        Day  \\\n",
              "0                                       Mon   \n",
              "1                                       Mon   \n",
              "2                                       Tue   \n",
              "3                                       Wed   \n",
              "4                                       Thu   \n",
              "5                                       Fri   \n",
              "6                                       Sat   \n",
              "7                                       Sun   \n",
              "8                                       Mon   \n",
              "9                                       Tue   \n",
              "10                                      Sun   \n",
              "11                                      Sun   \n",
              "12                                      Sun   \n",
              "13                                      Mon   \n",
              "14                                      Tue   \n",
              "15  Visit u.ae for the original  release  .   \n",
              "\n",
              "                                    Holiday  \n",
              "0                            New Year's Day  \n",
              "1                       Eid al-Fitr Holiday  \n",
              "2                       Eid al-Fitr Holiday  \n",
              "3                               Eid al-Fitr  \n",
              "4                       Eid al-Fitr Holiday  \n",
              "5                       Eid al-Fitr Holiday  \n",
              "6                                Arafat Day  \n",
              "7                               Eid al-Adha  \n",
              "8                       Eid al-Adha Holiday  \n",
              "9                       Eid al-Adha Holiday  \n",
              "10                         Islamic New Year  \n",
              "11              Prophet Muhammad's Birthday  \n",
              "12                        Commemoration Day  \n",
              "13                             National Day  \n",
              "14                     National Day Holiday  \n",
              "15  Visit u.ae for the original  release  .  "
            ],
            "text/html": [
              "\n",
              "  <div id=\"df-394ff41a-5503-40f6-a3be-6499d5ee2466\" class=\"colab-df-container\">\n",
              "    <div>\n",
              "<style scoped>\n",
              "    .dataframe tbody tr th:only-of-type {\n",
              "        vertical-align: middle;\n",
              "    }\n",
              "\n",
              "    .dataframe tbody tr th {\n",
              "        vertical-align: top;\n",
              "    }\n",
              "\n",
              "    .dataframe thead th {\n",
              "        text-align: right;\n",
              "    }\n",
              "</style>\n",
              "<table border=\"1\" class=\"dataframe\">\n",
              "  <thead>\n",
              "    <tr style=\"text-align: right;\">\n",
              "      <th></th>\n",
              "      <th>Date</th>\n",
              "      <th>Day</th>\n",
              "      <th>Holiday</th>\n",
              "    </tr>\n",
              "  </thead>\n",
              "  <tbody>\n",
              "    <tr>\n",
              "      <th>0</th>\n",
              "      <td>1 Jan</td>\n",
              "      <td>Mon</td>\n",
              "      <td>New Year's Day</td>\n",
              "    </tr>\n",
              "    <tr>\n",
              "      <th>1</th>\n",
              "      <td>8 Apr</td>\n",
              "      <td>Mon</td>\n",
              "      <td>Eid al-Fitr Holiday</td>\n",
              "    </tr>\n",
              "    <tr>\n",
              "      <th>2</th>\n",
              "      <td>9 Apr</td>\n",
              "      <td>Tue</td>\n",
              "      <td>Eid al-Fitr Holiday</td>\n",
              "    </tr>\n",
              "    <tr>\n",
              "      <th>3</th>\n",
              "      <td>10 Apr</td>\n",
              "      <td>Wed</td>\n",
              "      <td>Eid al-Fitr</td>\n",
              "    </tr>\n",
              "    <tr>\n",
              "      <th>4</th>\n",
              "      <td>11 Apr</td>\n",
              "      <td>Thu</td>\n",
              "      <td>Eid al-Fitr Holiday</td>\n",
              "    </tr>\n",
              "    <tr>\n",
              "      <th>5</th>\n",
              "      <td>12 Apr</td>\n",
              "      <td>Fri</td>\n",
              "      <td>Eid al-Fitr Holiday</td>\n",
              "    </tr>\n",
              "    <tr>\n",
              "      <th>6</th>\n",
              "      <td>15 Jun</td>\n",
              "      <td>Sat</td>\n",
              "      <td>Arafat Day</td>\n",
              "    </tr>\n",
              "    <tr>\n",
              "      <th>7</th>\n",
              "      <td>16 Jun</td>\n",
              "      <td>Sun</td>\n",
              "      <td>Eid al-Adha</td>\n",
              "    </tr>\n",
              "    <tr>\n",
              "      <th>8</th>\n",
              "      <td>17 Jun</td>\n",
              "      <td>Mon</td>\n",
              "      <td>Eid al-Adha Holiday</td>\n",
              "    </tr>\n",
              "    <tr>\n",
              "      <th>9</th>\n",
              "      <td>18 Jun</td>\n",
              "      <td>Tue</td>\n",
              "      <td>Eid al-Adha Holiday</td>\n",
              "    </tr>\n",
              "    <tr>\n",
              "      <th>10</th>\n",
              "      <td>7 Jul</td>\n",
              "      <td>Sun</td>\n",
              "      <td>Islamic New Year</td>\n",
              "    </tr>\n",
              "    <tr>\n",
              "      <th>11</th>\n",
              "      <td>15 Sep</td>\n",
              "      <td>Sun</td>\n",
              "      <td>Prophet Muhammad's Birthday</td>\n",
              "    </tr>\n",
              "    <tr>\n",
              "      <th>12</th>\n",
              "      <td>1 Dec</td>\n",
              "      <td>Sun</td>\n",
              "      <td>Commemoration Day</td>\n",
              "    </tr>\n",
              "    <tr>\n",
              "      <th>13</th>\n",
              "      <td>2 Dec</td>\n",
              "      <td>Mon</td>\n",
              "      <td>National Day</td>\n",
              "    </tr>\n",
              "    <tr>\n",
              "      <th>14</th>\n",
              "      <td>3 Dec</td>\n",
              "      <td>Tue</td>\n",
              "      <td>National Day Holiday</td>\n",
              "    </tr>\n",
              "    <tr>\n",
              "      <th>15</th>\n",
              "      <td>Visit u.ae for the original  release  .</td>\n",
              "      <td>Visit u.ae for the original  release  .</td>\n",
              "      <td>Visit u.ae for the original  release  .</td>\n",
              "    </tr>\n",
              "  </tbody>\n",
              "</table>\n",
              "</div>\n",
              "    <div class=\"colab-df-buttons\">\n",
              "\n",
              "  <div class=\"colab-df-container\">\n",
              "    <button class=\"colab-df-convert\" onclick=\"convertToInteractive('df-394ff41a-5503-40f6-a3be-6499d5ee2466')\"\n",
              "            title=\"Convert this dataframe to an interactive table.\"\n",
              "            style=\"display:none;\">\n",
              "\n",
              "  <svg xmlns=\"http://www.w3.org/2000/svg\" height=\"24px\" viewBox=\"0 -960 960 960\">\n",
              "    <path d=\"M120-120v-720h720v720H120Zm60-500h600v-160H180v160Zm220 220h160v-160H400v160Zm0 220h160v-160H400v160ZM180-400h160v-160H180v160Zm440 0h160v-160H620v160ZM180-180h160v-160H180v160Zm440 0h160v-160H620v160Z\"/>\n",
              "  </svg>\n",
              "    </button>\n",
              "\n",
              "  <style>\n",
              "    .colab-df-container {\n",
              "      display:flex;\n",
              "      gap: 12px;\n",
              "    }\n",
              "\n",
              "    .colab-df-convert {\n",
              "      background-color: #E8F0FE;\n",
              "      border: none;\n",
              "      border-radius: 50%;\n",
              "      cursor: pointer;\n",
              "      display: none;\n",
              "      fill: #1967D2;\n",
              "      height: 32px;\n",
              "      padding: 0 0 0 0;\n",
              "      width: 32px;\n",
              "    }\n",
              "\n",
              "    .colab-df-convert:hover {\n",
              "      background-color: #E2EBFA;\n",
              "      box-shadow: 0px 1px 2px rgba(60, 64, 67, 0.3), 0px 1px 3px 1px rgba(60, 64, 67, 0.15);\n",
              "      fill: #174EA6;\n",
              "    }\n",
              "\n",
              "    .colab-df-buttons div {\n",
              "      margin-bottom: 4px;\n",
              "    }\n",
              "\n",
              "    [theme=dark] .colab-df-convert {\n",
              "      background-color: #3B4455;\n",
              "      fill: #D2E3FC;\n",
              "    }\n",
              "\n",
              "    [theme=dark] .colab-df-convert:hover {\n",
              "      background-color: #434B5C;\n",
              "      box-shadow: 0px 1px 3px 1px rgba(0, 0, 0, 0.15);\n",
              "      filter: drop-shadow(0px 1px 2px rgba(0, 0, 0, 0.3));\n",
              "      fill: #FFFFFF;\n",
              "    }\n",
              "  </style>\n",
              "\n",
              "    <script>\n",
              "      const buttonEl =\n",
              "        document.querySelector('#df-394ff41a-5503-40f6-a3be-6499d5ee2466 button.colab-df-convert');\n",
              "      buttonEl.style.display =\n",
              "        google.colab.kernel.accessAllowed ? 'block' : 'none';\n",
              "\n",
              "      async function convertToInteractive(key) {\n",
              "        const element = document.querySelector('#df-394ff41a-5503-40f6-a3be-6499d5ee2466');\n",
              "        const dataTable =\n",
              "          await google.colab.kernel.invokeFunction('convertToInteractive',\n",
              "                                                    [key], {});\n",
              "        if (!dataTable) return;\n",
              "\n",
              "        const docLinkHtml = 'Like what you see? Visit the ' +\n",
              "          '<a target=\"_blank\" href=https://colab.research.google.com/notebooks/data_table.ipynb>data table notebook</a>'\n",
              "          + ' to learn more about interactive tables.';\n",
              "        element.innerHTML = '';\n",
              "        dataTable['output_type'] = 'display_data';\n",
              "        await google.colab.output.renderOutput(dataTable, element);\n",
              "        const docLink = document.createElement('div');\n",
              "        docLink.innerHTML = docLinkHtml;\n",
              "        element.appendChild(docLink);\n",
              "      }\n",
              "    </script>\n",
              "  </div>\n",
              "\n",
              "\n",
              "<div id=\"df-0b165517-19b5-4f75-8367-fbfe2b947188\">\n",
              "  <button class=\"colab-df-quickchart\" onclick=\"quickchart('df-0b165517-19b5-4f75-8367-fbfe2b947188')\"\n",
              "            title=\"Suggest charts\"\n",
              "            style=\"display:none;\">\n",
              "\n",
              "<svg xmlns=\"http://www.w3.org/2000/svg\" height=\"24px\"viewBox=\"0 0 24 24\"\n",
              "     width=\"24px\">\n",
              "    <g>\n",
              "        <path d=\"M19 3H5c-1.1 0-2 .9-2 2v14c0 1.1.9 2 2 2h14c1.1 0 2-.9 2-2V5c0-1.1-.9-2-2-2zM9 17H7v-7h2v7zm4 0h-2V7h2v10zm4 0h-2v-4h2v4z\"/>\n",
              "    </g>\n",
              "</svg>\n",
              "  </button>\n",
              "\n",
              "<style>\n",
              "  .colab-df-quickchart {\n",
              "      --bg-color: #E8F0FE;\n",
              "      --fill-color: #1967D2;\n",
              "      --hover-bg-color: #E2EBFA;\n",
              "      --hover-fill-color: #174EA6;\n",
              "      --disabled-fill-color: #AAA;\n",
              "      --disabled-bg-color: #DDD;\n",
              "  }\n",
              "\n",
              "  [theme=dark] .colab-df-quickchart {\n",
              "      --bg-color: #3B4455;\n",
              "      --fill-color: #D2E3FC;\n",
              "      --hover-bg-color: #434B5C;\n",
              "      --hover-fill-color: #FFFFFF;\n",
              "      --disabled-bg-color: #3B4455;\n",
              "      --disabled-fill-color: #666;\n",
              "  }\n",
              "\n",
              "  .colab-df-quickchart {\n",
              "    background-color: var(--bg-color);\n",
              "    border: none;\n",
              "    border-radius: 50%;\n",
              "    cursor: pointer;\n",
              "    display: none;\n",
              "    fill: var(--fill-color);\n",
              "    height: 32px;\n",
              "    padding: 0;\n",
              "    width: 32px;\n",
              "  }\n",
              "\n",
              "  .colab-df-quickchart:hover {\n",
              "    background-color: var(--hover-bg-color);\n",
              "    box-shadow: 0 1px 2px rgba(60, 64, 67, 0.3), 0 1px 3px 1px rgba(60, 64, 67, 0.15);\n",
              "    fill: var(--button-hover-fill-color);\n",
              "  }\n",
              "\n",
              "  .colab-df-quickchart-complete:disabled,\n",
              "  .colab-df-quickchart-complete:disabled:hover {\n",
              "    background-color: var(--disabled-bg-color);\n",
              "    fill: var(--disabled-fill-color);\n",
              "    box-shadow: none;\n",
              "  }\n",
              "\n",
              "  .colab-df-spinner {\n",
              "    border: 2px solid var(--fill-color);\n",
              "    border-color: transparent;\n",
              "    border-bottom-color: var(--fill-color);\n",
              "    animation:\n",
              "      spin 1s steps(1) infinite;\n",
              "  }\n",
              "\n",
              "  @keyframes spin {\n",
              "    0% {\n",
              "      border-color: transparent;\n",
              "      border-bottom-color: var(--fill-color);\n",
              "      border-left-color: var(--fill-color);\n",
              "    }\n",
              "    20% {\n",
              "      border-color: transparent;\n",
              "      border-left-color: var(--fill-color);\n",
              "      border-top-color: var(--fill-color);\n",
              "    }\n",
              "    30% {\n",
              "      border-color: transparent;\n",
              "      border-left-color: var(--fill-color);\n",
              "      border-top-color: var(--fill-color);\n",
              "      border-right-color: var(--fill-color);\n",
              "    }\n",
              "    40% {\n",
              "      border-color: transparent;\n",
              "      border-right-color: var(--fill-color);\n",
              "      border-top-color: var(--fill-color);\n",
              "    }\n",
              "    60% {\n",
              "      border-color: transparent;\n",
              "      border-right-color: var(--fill-color);\n",
              "    }\n",
              "    80% {\n",
              "      border-color: transparent;\n",
              "      border-right-color: var(--fill-color);\n",
              "      border-bottom-color: var(--fill-color);\n",
              "    }\n",
              "    90% {\n",
              "      border-color: transparent;\n",
              "      border-bottom-color: var(--fill-color);\n",
              "    }\n",
              "  }\n",
              "</style>\n",
              "\n",
              "  <script>\n",
              "    async function quickchart(key) {\n",
              "      const quickchartButtonEl =\n",
              "        document.querySelector('#' + key + ' button');\n",
              "      quickchartButtonEl.disabled = true;  // To prevent multiple clicks.\n",
              "      quickchartButtonEl.classList.add('colab-df-spinner');\n",
              "      try {\n",
              "        const charts = await google.colab.kernel.invokeFunction(\n",
              "            'suggestCharts', [key], {});\n",
              "      } catch (error) {\n",
              "        console.error('Error during call to suggestCharts:', error);\n",
              "      }\n",
              "      quickchartButtonEl.classList.remove('colab-df-spinner');\n",
              "      quickchartButtonEl.classList.add('colab-df-quickchart-complete');\n",
              "    }\n",
              "    (() => {\n",
              "      let quickchartButtonEl =\n",
              "        document.querySelector('#df-0b165517-19b5-4f75-8367-fbfe2b947188 button');\n",
              "      quickchartButtonEl.style.display =\n",
              "        google.colab.kernel.accessAllowed ? 'block' : 'none';\n",
              "    })();\n",
              "  </script>\n",
              "</div>\n",
              "\n",
              "  <div id=\"id_30edd455-4ad6-404a-9623-4ce5ba4d6f7a\">\n",
              "    <style>\n",
              "      .colab-df-generate {\n",
              "        background-color: #E8F0FE;\n",
              "        border: none;\n",
              "        border-radius: 50%;\n",
              "        cursor: pointer;\n",
              "        display: none;\n",
              "        fill: #1967D2;\n",
              "        height: 32px;\n",
              "        padding: 0 0 0 0;\n",
              "        width: 32px;\n",
              "      }\n",
              "\n",
              "      .colab-df-generate:hover {\n",
              "        background-color: #E2EBFA;\n",
              "        box-shadow: 0px 1px 2px rgba(60, 64, 67, 0.3), 0px 1px 3px 1px rgba(60, 64, 67, 0.15);\n",
              "        fill: #174EA6;\n",
              "      }\n",
              "\n",
              "      [theme=dark] .colab-df-generate {\n",
              "        background-color: #3B4455;\n",
              "        fill: #D2E3FC;\n",
              "      }\n",
              "\n",
              "      [theme=dark] .colab-df-generate:hover {\n",
              "        background-color: #434B5C;\n",
              "        box-shadow: 0px 1px 3px 1px rgba(0, 0, 0, 0.15);\n",
              "        filter: drop-shadow(0px 1px 2px rgba(0, 0, 0, 0.3));\n",
              "        fill: #FFFFFF;\n",
              "      }\n",
              "    </style>\n",
              "    <button class=\"colab-df-generate\" onclick=\"generateWithVariable('df')\"\n",
              "            title=\"Generate code using this dataframe.\"\n",
              "            style=\"display:none;\">\n",
              "\n",
              "  <svg xmlns=\"http://www.w3.org/2000/svg\" height=\"24px\"viewBox=\"0 0 24 24\"\n",
              "       width=\"24px\">\n",
              "    <path d=\"M7,19H8.4L18.45,9,17,7.55,7,17.6ZM5,21V16.75L18.45,3.32a2,2,0,0,1,2.83,0l1.4,1.43a1.91,1.91,0,0,1,.58,1.4,1.91,1.91,0,0,1-.58,1.4L9.25,21ZM18.45,9,17,7.55Zm-12,3A5.31,5.31,0,0,0,4.9,8.1,5.31,5.31,0,0,0,1,6.5,5.31,5.31,0,0,0,4.9,4.9,5.31,5.31,0,0,0,6.5,1,5.31,5.31,0,0,0,8.1,4.9,5.31,5.31,0,0,0,12,6.5,5.46,5.46,0,0,0,6.5,12Z\"/>\n",
              "  </svg>\n",
              "    </button>\n",
              "    <script>\n",
              "      (() => {\n",
              "      const buttonEl =\n",
              "        document.querySelector('#id_30edd455-4ad6-404a-9623-4ce5ba4d6f7a button.colab-df-generate');\n",
              "      buttonEl.style.display =\n",
              "        google.colab.kernel.accessAllowed ? 'block' : 'none';\n",
              "\n",
              "      buttonEl.onclick = () => {\n",
              "        google.colab.notebook.generateWithVariable('df');\n",
              "      }\n",
              "      })();\n",
              "    </script>\n",
              "  </div>\n",
              "\n",
              "    </div>\n",
              "  </div>\n"
            ],
            "application/vnd.google.colaboratory.intrinsic+json": {
              "type": "dataframe",
              "variable_name": "df",
              "summary": "{\n  \"name\": \"df\",\n  \"rows\": 16,\n  \"fields\": [\n    {\n      \"column\": \"Date\",\n      \"properties\": {\n        \"dtype\": \"string\",\n        \"samples\": [\n          \"1 Jan\",\n          \"8 Apr\",\n          \"12 Apr\"\n        ],\n        \"num_unique_values\": 16,\n        \"semantic_type\": \"\",\n        \"description\": \"\"\n      }\n    },\n    {\n      \"column\": \"Day\",\n      \"properties\": {\n        \"dtype\": \"string\",\n        \"samples\": [\n          \"Tue\",\n          \"Sat\",\n          \"Mon\"\n        ],\n        \"num_unique_values\": 8,\n        \"semantic_type\": \"\",\n        \"description\": \"\"\n      }\n    },\n    {\n      \"column\": \"Holiday\",\n      \"properties\": {\n        \"dtype\": \"string\",\n        \"samples\": [\n          \"National Day Holiday\",\n          \"National Day\",\n          \"New Year's Day\"\n        ],\n        \"num_unique_values\": 12,\n        \"semantic_type\": \"\",\n        \"description\": \"\"\n      }\n    }\n  ]\n}"
            }
          },
          "metadata": {},
          "execution_count": 7
        }
      ]
    },
    {
      "cell_type": "code",
      "source": [
        "# Save the DataFrame to a CSV file\n",
        "df.iloc[:-1, :].to_csv(\"uae_holidays.csv\")"
      ],
      "metadata": {
        "id": "bvfDNzHgsxoQ"
      },
      "execution_count": 8,
      "outputs": []
    },
    {
      "cell_type": "markdown",
      "source": [
        "## LangChain\n",
        "Now, we will import several LangChain methods that we will be utilizing. For the purposes of this demo, we will begin with a straightforward approach using the `ChatOpenAI` model. To achieve this, we will load the previously saved file and create a vector index from its contents. Additionally, we will create a simple prompt and set up a memory to store the conversation history. Finally, we will configure a `RetrievalQA` chain to bring all these components together."
      ],
      "metadata": {
        "id": "HVua_HRq8r5Y"
      }
    },
    {
      "cell_type": "code",
      "source": [
        "# Set OpenAI API key from Google Colab's user environment or default\n",
        "def set_openai_api_key(default_key: str = \"YOUR_API_KEY\") -> None:\n",
        "    \"\"\"Set the OpenAI API key from Google Colab's user environment or use a default value.\"\"\"\n",
        "    from google.colab import userdata\n",
        "    import os\n",
        "\n",
        "    os.environ[\"OPENAI_API_KEY\"] = userdata.get(\"OPENAI_API_KEY\") or default_key\n",
        "\n",
        "\n",
        "set_openai_api_key()"
      ],
      "metadata": {
        "id": "erN0kcg3ioPh"
      },
      "execution_count": 9,
      "outputs": []
    },
    {
      "cell_type": "code",
      "source": [
        "'''\n",
        "# Load language model, embeddings, and index for conversational AI\n",
        "from langchain.chat_models import ChatOpenAI                #model\n",
        "from langchain.indexes import VectorstoreIndexCreator       #index\n",
        "from langchain.document_loaders.csv_loader import CSVLoader #tool\n",
        "from langchain.prompts import PromptTemplate                #prompt\n",
        "from langchain.memory import ConversationBufferMemory       #memory\n",
        "from langchain.chains import RetrievalQA                    #chain\n",
        "\n",
        "#import langchain\n",
        "#langchain.verbose = True\n",
        "'''\n"
      ],
      "metadata": {
        "id": "aiDRzpEQDMR4",
        "colab": {
          "base_uri": "https://localhost:8080/",
          "height": 70
        },
        "outputId": "40d11a3a-ea30-4d6a-e3a5-1625ec9bf43c"
      },
      "execution_count": 10,
      "outputs": [
        {
          "output_type": "execute_result",
          "data": {
            "text/plain": [
              "'\\n# Load language model, embeddings, and index for conversational AI\\nfrom langchain.chat_models import ChatOpenAI                #model\\nfrom langchain.indexes import VectorstoreIndexCreator       #index\\nfrom langchain.document_loaders.csv_loader import CSVLoader #tool\\nfrom langchain.prompts import PromptTemplate                #prompt\\nfrom langchain.memory import ConversationBufferMemory       #memory\\nfrom langchain.chains import RetrievalQA                    #chain\\n\\n#import langchain\\n#langchain.verbose = True\\n'"
            ],
            "application/vnd.google.colaboratory.intrinsic+json": {
              "type": "string"
            }
          },
          "metadata": {},
          "execution_count": 10
        }
      ]
    },
    {
      "cell_type": "code",
      "source": [
        "from langchain_openai import ChatOpenAI\n",
        "from langchain_core.prompts.chat import ChatPromptTemplate, MessagesPlaceholder\n",
        "from langchain.chains.combine_documents import create_stuff_documents_chain\n",
        "from langchain.chains import create_retrieval_chain\n",
        "from langchain_core.runnables import RunnableParallel, RunnablePassthrough, RunnableLambda\n",
        "from langchain.agents import AgentExecutor\n",
        "from langchain_core.output_parsers import StrOutputParser\n",
        "from langchain.agents.format_scratchpad import format_to_openai_function_messages\n",
        "from langchain.agents.output_parsers.openai_functions import OpenAIFunctionsAgentOutputParser\n",
        "from langchain.indexes import VectorstoreIndexCreator\n",
        "from langchain.document_loaders.csv_loader import CSVLoader\n",
        "from langchain.memory import ConversationSummaryBufferMemory, ChatMessageHistory\n",
        "\n",
        "from operator import itemgetter"
      ],
      "metadata": {
        "id": "qR4Iro7MbLqe"
      },
      "execution_count": 11,
      "outputs": []
    },
    {
      "cell_type": "code",
      "source": [
        "model_name = \"gpt-4-0125-preview\"\n",
        "MEMORY_KEY = \"chat_history\"\n",
        "verbose= False"
      ],
      "metadata": {
        "id": "kYtgUGM0eXOp"
      },
      "execution_count": 12,
      "outputs": []
    },
    {
      "cell_type": "code",
      "source": [
        "# Create a prompt using the template\n",
        "prompt = ChatPromptTemplate.from_messages(\n",
        "    [\n",
        "        (\n",
        "            \"system\",\n",
        "            \"You are Larry. You are a assistant to help answer when are the official UAE holidays, based only on the data provided\",\n",
        "        ),\n",
        "        MessagesPlaceholder(variable_name=MEMORY_KEY),\n",
        "        (\"user\", \"{input}\"),\n",
        "        MessagesPlaceholder(variable_name=\"agent_scratchpad\"),\n",
        "    ]\n",
        ")"
      ],
      "metadata": {
        "id": "YhpmgQJL9mra"
      },
      "execution_count": 13,
      "outputs": []
    },
    {
      "cell_type": "code",
      "source": [
        "# Creating memory\n",
        "\n",
        "history = ChatMessageHistory()\n",
        "history.add_user_message(\"Hi, my name is Ivan.\")\n",
        "history.add_ai_message(\"Hello Ivan! How can I assist you today?\")\n",
        "\n",
        "memory = ConversationSummaryBufferMemory(\n",
        "    llm=ChatOpenAI(model=model_name),\n",
        "    return_messages=True,\n",
        "    memory_key=MEMORY_KEY,\n",
        "    chat_memory=history\n",
        ")"
      ],
      "metadata": {
        "id": "sVgjt827-m2K"
      },
      "execution_count": 14,
      "outputs": []
    },
    {
      "cell_type": "code",
      "source": [
        "print(memory.load_memory_variables({}))\n",
        "memory.predict_new_summary(existing_summary=\"\", messages=history.messages)"
      ],
      "metadata": {
        "colab": {
          "base_uri": "https://localhost:8080/",
          "height": 53
        },
        "id": "moPxnx5weAbb",
        "outputId": "4cf1d14c-aafe-42a1-84d6-359c75bed302"
      },
      "execution_count": 15,
      "outputs": [
        {
          "output_type": "stream",
          "name": "stdout",
          "text": [
            "{'chat_history': [HumanMessage(content='Hi, my name is Ivan.'), AIMessage(content='Hello Ivan! How can I assist you today?')]}\n"
          ]
        },
        {
          "output_type": "execute_result",
          "data": {
            "text/plain": [
              "'Ivan greets the AI, and the AI responds warmly, asking how it can assist him.'"
            ],
            "application/vnd.google.colaboratory.intrinsic+json": {
              "type": "string"
            }
          },
          "metadata": {},
          "execution_count": 15
        }
      ]
    },
    {
      "cell_type": "code",
      "source": [
        "# Creating vectorstore\n",
        "\n",
        "def load_index():\n",
        "    # if you want to avoid the step of saving/loading a file, you can use the `from_documents()` method of the VectorstoreIndexCreator()\n",
        "    loader = CSVLoader(file_path='uae_holidays.csv')\n",
        "    index = VectorstoreIndexCreator().from_loaders([loader])\n",
        "    return index\n",
        "\n",
        "retriever=load_index().vectorstore.as_retriever()"
      ],
      "metadata": {
        "colab": {
          "base_uri": "https://localhost:8080/"
        },
        "id": "SA6vFEJSlGjO",
        "outputId": "495047d4-ca26-41bb-ea8a-1bb11e8fc9d4"
      },
      "execution_count": 16,
      "outputs": [
        {
          "output_type": "stream",
          "name": "stderr",
          "text": [
            "/usr/local/lib/python3.10/dist-packages/langchain_core/_api/deprecation.py:117: LangChainDeprecationWarning: The class `langchain_community.embeddings.openai.OpenAIEmbeddings` was deprecated in langchain-community 0.1.0 and will be removed in 0.2.0. An updated version of the class exists in the langchain-openai package and should be used instead. To use it run `pip install -U langchain-openai` and import as `from langchain_openai import OpenAIEmbeddings`.\n",
            "  warn_deprecated(\n"
          ]
        }
      ]
    },
    {
      "cell_type": "code",
      "source": [
        "# Import things that are needed generically\n",
        "from langchain.pydantic_v1 import BaseModel, Field\n",
        "from langchain.tools import BaseTool, StructuredTool, tool, format_tool_to_openai_function\n",
        "from langchain.tools.retriever import create_retriever_tool\n",
        "\n",
        "class SearchInput(BaseModel):\n",
        "    query: str = Field(description=\"should be a search query\")\n",
        "\n",
        "\n",
        "@tool(\"search-tool\", args_schema=SearchInput, return_direct=True)\n",
        "def search_tool(query: str) -> str:\n",
        "    \"\"\"Palceholder tool. Does nothing. Don't use it!\"\"\"\n",
        "    return \"LangChain\"\n",
        "\n",
        "retrive_tool = create_retriever_tool(\n",
        "    retriever,\n",
        "    \"search_for_uae_holidays\",\n",
        "    \"Searches and returns dates of UAE holidays\",\n",
        ")\n",
        "\n",
        "tools = [search_tool, retrive_tool]\n",
        "formatted_functions = [format_tool_to_openai_function(t) for t in tools]"
      ],
      "metadata": {
        "colab": {
          "base_uri": "https://localhost:8080/"
        },
        "id": "fTJ5uz4IhaUU",
        "outputId": "b358ac56-9838-46e9-a2f2-202858fdbdb5"
      },
      "execution_count": 17,
      "outputs": [
        {
          "output_type": "stream",
          "name": "stderr",
          "text": [
            "/usr/local/lib/python3.10/dist-packages/langchain_core/_api/deprecation.py:117: LangChainDeprecationWarning: The function `format_tool_to_openai_function` was deprecated in LangChain 0.1.16 and will be removed in 0.2.0. Use langchain_core.utils.function_calling.convert_to_openai_function() instead.\n",
            "  warn_deprecated(\n"
          ]
        }
      ]
    },
    {
      "cell_type": "code",
      "source": [
        "def load_llm():\n",
        "    llm = ChatOpenAI(temperature=0,model_name=model_name)\n",
        "    return llm\n",
        "\n",
        "llm = load_llm()\n",
        "llm_with_tools = llm.bind(functions=formatted_functions)"
      ],
      "metadata": {
        "id": "UuWgmwXXicfp"
      },
      "execution_count": 18,
      "outputs": []
    },
    {
      "cell_type": "code",
      "source": [
        "agent = (\n",
        "    {\n",
        "        \"input\": lambda x: x[\"input\"],\n",
        "        \"agent_scratchpad\": lambda x: format_to_openai_function_messages(\n",
        "            x[\"intermediate_steps\"]\n",
        "        ),\n",
        "    }\n",
        "    | RunnablePassthrough.assign(\n",
        "        # chat_history=RunnableLambda(memory.load_memory_variables) | itemgetter(MEMORY_KEY)\n",
        "        **{MEMORY_KEY: RunnableLambda(memory.load_memory_variables) | itemgetter(MEMORY_KEY)}\n",
        "    )\n",
        "    | prompt\n",
        "    | llm_with_tools\n",
        "    | OpenAIFunctionsAgentOutputParser()\n",
        ")\n",
        "\n",
        "qa = AgentExecutor(agent=agent, tools=tools, memory=memory, verbose=verbose)"
      ],
      "metadata": {
        "id": "bkBup-EZcUDa"
      },
      "execution_count": 19,
      "outputs": []
    },
    {
      "cell_type": "markdown",
      "source": [
        "## Q&A\n",
        "Let's now ask some questions regarding the holidays in UAE:"
      ],
      "metadata": {
        "id": "Vw6gWqOZ_adn"
      }
    },
    {
      "cell_type": "code",
      "source": [
        "# Function to print the response for a given query\n",
        "def print_response_for_query(query):\n",
        "    result = qa.invoke({\"input\": query})['output']\n",
        "    output_format = f\"\"\"===================================\n",
        "    {result}\n",
        "    ===================================\"\"\"\n",
        "    return pprint.pprint(output_format)"
      ],
      "metadata": {
        "id": "8IFJ1-2twoNx"
      },
      "execution_count": 20,
      "outputs": []
    },
    {
      "cell_type": "markdown",
      "source": [
        "### Holidays in March/December"
      ],
      "metadata": {
        "id": "Bhoa6gEhyIdn"
      }
    },
    {
      "cell_type": "code",
      "source": [
        "query = \"Are there any holidays in March?\"\n",
        "print_response_for_query(query)"
      ],
      "metadata": {
        "colab": {
          "base_uri": "https://localhost:8080/"
        },
        "id": "7iBQrEavx2B_",
        "outputId": "20dacca8-b977-4411-f21e-cef87c860327"
      },
      "execution_count": 21,
      "outputs": [
        {
          "output_type": "stream",
          "name": "stdout",
          "text": [
            "('===================================\\n'\n",
            " '    There are no official UAE holidays in March. However, there are several '\n",
            " 'holidays in April related to Eid al-Fitr. Would you like to know about '\n",
            " 'holidays in any other month?\\n'\n",
            " '    ===================================')\n"
          ]
        }
      ]
    },
    {
      "cell_type": "markdown",
      "source": [
        "Correct response. What about December?"
      ],
      "metadata": {
        "id": "PgnCfZoMyEf8"
      }
    },
    {
      "cell_type": "code",
      "source": [
        "query = \"Sorry, I meant December\"\n",
        "print_response_for_query(query)"
      ],
      "metadata": {
        "id": "FOYD4BnRYuPl",
        "colab": {
          "base_uri": "https://localhost:8080/"
        },
        "outputId": "9625b7db-e367-4c81-a5fb-30cd39cc750d"
      },
      "execution_count": 22,
      "outputs": [
        {
          "output_type": "stream",
          "name": "stdout",
          "text": [
            "('===================================\\n'\n",
            " '    In December, the UAE observes the following official holidays:\\n'\n",
            " '\\n'\n",
            " '- **Commemoration Day** on December 1st, Sunday\\n'\n",
            " '- **National Day** on December 2nd, Monday\\n'\n",
            " '- **National Day Holiday** on December 3rd, Tuesday\\n'\n",
            " '\\n'\n",
            " 'These holidays are a time for celebration and remembrance across the '\n",
            " 'country. Is there anything else you would like to know?\\n'\n",
            " '    ===================================')\n"
          ]
        }
      ]
    },
    {
      "cell_type": "markdown",
      "source": [
        "Did you notice, how we used the **memory** here? If it wasn't for it, the response would've sounded as:\n",
        "> Sorry, I can't understand you. What exactly are you looking for in December?"
      ],
      "metadata": {
        "id": "7DrUjBA7yDmW"
      }
    },
    {
      "cell_type": "markdown",
      "source": [
        "### Multichain Ramadan example"
      ],
      "metadata": {
        "id": "4RXVGMmpzRJR"
      }
    },
    {
      "cell_type": "code",
      "source": [
        "query = \"When does this year's holiday marking the end of Ramadan start?\"\n",
        "print_response_for_query(query)"
      ],
      "metadata": {
        "colab": {
          "base_uri": "https://localhost:8080/"
        },
        "id": "v6uyhVH1o7rF",
        "outputId": "2802ae79-f68c-42c2-bb0a-9c4572db92bf"
      },
      "execution_count": 23,
      "outputs": [
        {
          "output_type": "stream",
          "name": "stdout",
          "text": [
            "('===================================\\n'\n",
            " '    This year, the holiday marking the end of Ramadan, Eid al-Fitr, starts '\n",
            " 'on April 10th, Wednesday, and extends through April 12th, Friday. Here are '\n",
            " 'the specific dates:\\n'\n",
            " '\\n'\n",
            " '- **Eid al-Fitr** on April 10th, Wednesday\\n'\n",
            " '- **Eid al-Fitr Holiday** on April 11th, Thursday\\n'\n",
            " '- **Eid al-Fitr Holiday** also includes April 8th, Monday, and April 12th, '\n",
            " 'Friday\\n'\n",
            " '\\n'\n",
            " 'Please note that the exact dates may vary slightly based on the moon '\n",
            " \"sighting. Is there anything else you'd like to know?\\n\"\n",
            " '    ===================================')\n"
          ]
        }
      ]
    },
    {
      "cell_type": "markdown",
      "source": [
        "Now this is quite interesting. The chain correctly identified Eid al-Fitr as the holiday that marks the end of Ramadan. But there is a reason, why I'm starting with scraping, instead of clean csv file. As you may notice, from the table, there is only one holiday called \"Eid al-Fitr\":\n",
        "\n",
        "| Date | Day | Holiday |\n",
        "| --- | --- | --- |\n",
        "| 8 Apr | Thu | Eid al-Fitr Holiday |\n",
        "| 9 Apr | Thu | Eid al-Fitr Holiday |\n",
        "| 10 Apr | Fri | Eid al-Fitr |\n",
        "| 11 Apr | Sat | Eid al-Fitr Holiday |\n",
        "| 12 Apr | Sun | Eid al-Fitr Holiday |\n",
        "\n",
        "The problem here is that the data is dirty and the model can't identify, that it's actually a 5-day holiday. Of course the easy solution here would be to either clean the data, possibly through tools or modify prompt.\n",
        "\n",
        "\n"
      ],
      "metadata": {
        "id": "3nSoM_UhzaJr"
      }
    },
    {
      "cell_type": "code",
      "source": [
        "query = \"How many days is it celebrated for this year?\"\n",
        "print_response_for_query(query)"
      ],
      "metadata": {
        "colab": {
          "base_uri": "https://localhost:8080/"
        },
        "id": "RRCDJUG5xY4q",
        "outputId": "7a1669c2-ec98-4e5a-d537-1fdc9871a672"
      },
      "execution_count": 24,
      "outputs": [
        {
          "output_type": "stream",
          "name": "stdout",
          "text": [
            "('===================================\\n'\n",
            " '    This year, Eid al-Fitr is celebrated for 4 days. Here are the specific '\n",
            " 'dates for the holiday:\\n'\n",
            " '\\n'\n",
            " '- **Eid al-Fitr** on April 10th, Wednesday\\n'\n",
            " '- **Eid al-Fitr Holiday** on April 11th, Thursday\\n'\n",
            " '- **Eid al-Fitr Holiday** also includes April 8th, Monday, and April 12th, '\n",
            " 'Friday\\n'\n",
            " '\\n'\n",
            " 'These dates mark the official public holidays for Eid al-Fitr in the UAE. Is '\n",
            " 'there anything else I can help you with?\\n'\n",
            " '    ===================================')\n"
          ]
        }
      ]
    },
    {
      "cell_type": "markdown",
      "source": [
        "### What is the next holiday?"
      ],
      "metadata": {
        "id": "12Go2I0Q1Dd2"
      }
    },
    {
      "cell_type": "code",
      "source": [
        "query = \"Today is February 17. When is the nearest holiday?\"\n",
        "print_response_for_query(query)"
      ],
      "metadata": {
        "colab": {
          "base_uri": "https://localhost:8080/"
        },
        "id": "i8jntw9JzOmC",
        "outputId": "2b01a010-74cb-4ff8-e8a3-53511efef7d1"
      },
      "execution_count": 25,
      "outputs": [
        {
          "output_type": "stream",
          "name": "stdout",
          "text": [
            "('===================================\\n'\n",
            " '    The nearest holiday from today, February 17, is **Eid al-Fitr**, which '\n",
            " 'starts on April 10th, Wednesday, and extends through April 12th, Friday. '\n",
            " 'This marks the end of Ramadan and is celebrated for 4 days. \\n'\n",
            " '\\n'\n",
            " 'Is there anything else you would like to know?\\n'\n",
            " '    ===================================')\n"
          ]
        }
      ]
    },
    {
      "cell_type": "markdown",
      "source": [
        "As one can see the nearest holiday is detected correctly!"
      ],
      "metadata": {
        "id": "Oj7oj_Vl1JkF"
      }
    },
    {
      "cell_type": "code",
      "source": [],
      "metadata": {
        "id": "1tuIUmW657BY"
      },
      "execution_count": 25,
      "outputs": []
    }
  ]
}